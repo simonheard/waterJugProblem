{
 "cells": [
  {
   "cell_type": "code",
   "execution_count": 11,
   "metadata": {},
   "outputs": [],
   "source": [
    "outputSteps = False\n",
    "runComplicated = False"
   ]
  },
  {
   "cell_type": "code",
   "execution_count": 12,
   "metadata": {},
   "outputs": [],
   "source": [
    "from waterJugProblem import astar\n",
    "def test_file(filename):\n",
    "  with open(filename) as f:\n",
    "    lines = f.readlines()\n",
    "    capacities = list(map(int, lines[0].split(',')))\n",
    "    target = int(lines[1])\n",
    "    if outputSteps:\n",
    "      return astar(capacities, target)\n",
    "    return len(astar(capacities, target)) - 1 if astar(capacities, target) else -1\n",
    "\n",
    "def test_case(capacities, target):\n",
    "  return len(astar(capacities, target)) - 1 if astar(capacities, target) else -1"
   ]
  },
  {
   "cell_type": "code",
   "execution_count": 13,
   "metadata": {},
   "outputs": [
    {
     "data": {
      "text/plain": [
       "7"
      ]
     },
     "execution_count": 13,
     "metadata": {},
     "output_type": "execute_result"
    }
   ],
   "source": [
    "astar([3, 5], 4) if outputSteps else test_case([3, 5], 4)"
   ]
  },
  {
   "cell_type": "code",
   "execution_count": 14,
   "metadata": {},
   "outputs": [
    {
     "data": {
      "text/plain": [
       "2"
      ]
     },
     "execution_count": 14,
     "metadata": {},
     "output_type": "execute_result"
    }
   ],
   "source": [
    "astar([3, 5], 5) if outputSteps else test_case([3, 5], 5)"
   ]
  },
  {
   "cell_type": "code",
   "execution_count": 15,
   "metadata": {},
   "outputs": [
    {
     "data": {
      "text/plain": [
       "5"
      ]
     },
     "execution_count": 15,
     "metadata": {},
     "output_type": "execute_result"
    }
   ],
   "source": [
    "astar([3, 5], 7) if outputSteps else test_case([3, 5], 7)"
   ]
  },
  {
   "cell_type": "code",
   "execution_count": 16,
   "metadata": {},
   "outputs": [
    {
     "data": {
      "text/plain": [
       "4"
      ]
     },
     "execution_count": 16,
     "metadata": {},
     "output_type": "execute_result"
    }
   ],
   "source": [
    "astar([2, 5], 10) if outputSteps else test_case([2, 5], 10)"
   ]
  },
  {
   "cell_type": "code",
   "execution_count": 17,
   "metadata": {},
   "outputs": [
    {
     "data": {
      "text/plain": [
       "5"
      ]
     },
     "execution_count": 17,
     "metadata": {},
     "output_type": "execute_result"
    }
   ],
   "source": [
    "astar([2, 5], 8) if outputSteps else test_case([2, 5], 8)"
   ]
  },
  {
   "cell_type": "code",
   "execution_count": 18,
   "metadata": {},
   "outputs": [
    {
     "data": {
      "text/plain": [
       "8"
      ]
     },
     "execution_count": 18,
     "metadata": {},
     "output_type": "execute_result"
    }
   ],
   "source": [
    "astar([2, 3, 5, 7], 20) if outputSteps else test_case([2, 3, 5, 7], 20)"
   ]
  },
  {
   "cell_type": "code",
   "execution_count": 19,
   "metadata": {},
   "outputs": [
    {
     "data": {
      "text/plain": [
       "16"
      ]
     },
     "execution_count": 19,
     "metadata": {},
     "output_type": "execute_result"
    }
   ],
   "source": [
    "astar([11, 13, 17, 19], 150) if outputSteps else test_case([11, 13, 17, 19], 150)"
   ]
  },
  {
   "cell_type": "code",
   "execution_count": 20,
   "metadata": {},
   "outputs": [
    {
     "data": {
      "text/plain": [
       "28"
      ]
     },
     "execution_count": 20,
     "metadata": {},
     "output_type": "execute_result"
    }
   ],
   "source": [
    "astar([11, 13, 17, 19], 250) if outputSteps else test_case([11, 13, 17, 19], 250)"
   ]
  },
  {
   "cell_type": "code",
   "execution_count": 21,
   "metadata": {},
   "outputs": [
    {
     "data": {
      "text/plain": [
       "7"
      ]
     },
     "execution_count": 21,
     "metadata": {},
     "output_type": "execute_result"
    }
   ],
   "source": [
    "test_file('cat input1.txt')"
   ]
  },
  {
   "cell_type": "code",
   "execution_count": 22,
   "metadata": {},
   "outputs": [
    {
     "data": {
      "text/plain": [
       "-1"
      ]
     },
     "execution_count": 22,
     "metadata": {},
     "output_type": "execute_result"
    }
   ],
   "source": [
    "test_file('cat input2.txt')"
   ]
  },
  {
   "cell_type": "code",
   "execution_count": 23,
   "metadata": {},
   "outputs": [
    {
     "data": {
      "text/plain": [
       "-1"
      ]
     },
     "execution_count": 23,
     "metadata": {},
     "output_type": "execute_result"
    }
   ],
   "source": [
    "test_file('cat input3.txt')"
   ]
  },
  {
   "cell_type": "code",
   "execution_count": 24,
   "metadata": {},
   "outputs": [
    {
     "name": "stdout",
     "output_type": "stream",
     "text": [
      "Skipping [2, 3, 11, 13, 17, 19], 250 because it is a complicated test case\n"
     ]
    }
   ],
   "source": [
    "if runComplicated:\n",
    "  test_case( [2, 3, 11, 13, 17, 19], 250) if outputSteps else test_case([2, 3,  11, 13, 17, 19], 250)\n",
    "else:\n",
    "  print('Skipping [2, 3, 11, 13, 17, 19], 250 because it is a complicated test case')"
   ]
  },
  {
   "cell_type": "code",
   "execution_count": 25,
   "metadata": {},
   "outputs": [
    {
     "name": "stdout",
     "output_type": "stream",
     "text": [
      "Skipping input4.txt because it is a complicated test case\n"
     ]
    }
   ],
   "source": [
    "if runComplicated:\n",
    "  test_file('cat input4.txt')\n",
    "else:\n",
    "  print('Skipping input4.txt because it is a complicated test case')"
   ]
  },
  {
   "cell_type": "code",
   "execution_count": 26,
   "metadata": {},
   "outputs": [
    {
     "name": "stdout",
     "output_type": "stream",
     "text": [
      "Skipping [2, 3, 5, 7, 11, 13, 17, 19], 250 because it is a complicated test case\n"
     ]
    }
   ],
   "source": [
    "if runComplicated:\n",
    "  test_case( [2, 3, 5, 7, 11, 13, 17, 19], 250) if outputSteps else test_case([2, 3, 5, 7, 11, 13, 17, 19], 250)\n",
    "else:\n",
    "  print('Skipping [2, 3, 5, 7, 11, 13, 17, 19], 250 because it is a complicated test case')"
   ]
  }
 ],
 "metadata": {
  "kernelspec": {
   "display_name": "Python 3",
   "language": "python",
   "name": "python3"
  },
  "language_info": {
   "codemirror_mode": {
    "name": "ipython",
    "version": 3
   },
   "file_extension": ".py",
   "mimetype": "text/x-python",
   "name": "python",
   "nbconvert_exporter": "python",
   "pygments_lexer": "ipython3",
   "version": "3.12.0"
  }
 },
 "nbformat": 4,
 "nbformat_minor": 2
}
